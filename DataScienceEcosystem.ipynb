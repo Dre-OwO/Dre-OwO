{
  "cells": [
    {
      "cell_type": "markdown",
      "metadata": {
        "id": "view-in-github",
        "colab_type": "text"
      },
      "source": [
        "<a href=\"https://colab.research.google.com/github/Dre-OwO/Dre-OwO/blob/main/DataScienceEcosystem.ipynb\" target=\"_parent\"><img src=\"https://colab.research.google.com/assets/colab-badge.svg\" alt=\"Open In Colab\"/></a>"
      ]
    },
    {
      "cell_type": "markdown",
      "source": [
        "#Data Science Tools and Ecosystem"
      ],
      "metadata": {
        "id": "ErpE7Ck_Hk5n"
      }
    },
    {
      "cell_type": "markdown",
      "source": [
        "##In this notebook, Data Science Tools and Ecosystem are summarized."
      ],
      "metadata": {
        "id": "gfo94GUbHgb-"
      }
    },
    {
      "cell_type": "markdown",
      "source": [
        "**Objectives:**\n",
        "\n",
        "---\n",
        "- Learn about some popular languages for Data Science\n",
        "- Learn about the most commonly used libraries in Data Sciences\n",
        "- Learn about Data Science tools\n",
        "\n"
      ],
      "metadata": {
        "id": "ZzMQLOV9ngct"
      }
    },
    {
      "cell_type": "markdown",
      "source": [
        "Some of the popular languages that Data Scientists use are:\n",
        "\n",
        "---\n",
        "\n",
        "1. Python\n",
        "\n",
        "2. R\n",
        "\n",
        "3. SQL\n",
        "\n"
      ],
      "metadata": {
        "id": "HH-GnhI-IM7_"
      }
    },
    {
      "cell_type": "markdown",
      "source": [
        "Some of the commonly used libraries used by Data Scientists include:\n",
        "\n",
        "---\n",
        "\n",
        "1. Pandas\n",
        "\n",
        "2. GGplot2\n",
        "\n",
        "3. Apache Spark\n",
        "\n"
      ],
      "metadata": {
        "id": "63fklQMTjJ1i"
      }
    },
    {
      "cell_type": "markdown",
      "source": [
        "Some data Science tools commonly used are:\n",
        "\n",
        "---\n",
        "|Data Science Tools|\n",
        "---\n",
        "|Jupyter Notebooks |\n",
        "|RStudio |\n",
        "|GoogleColab|\n",
        "\n"
      ],
      "metadata": {
        "id": "PPelxDp4j1Ye"
      }
    },
    {
      "cell_type": "markdown",
      "source": [
        "###Below are a few examples of evaluating arithmetic expressions in Python"
      ],
      "metadata": {
        "id": "G04b3Yq6lxaQ"
      }
    },
    {
      "cell_type": "code",
      "source": [
        "\"This a simple arithmetic expression to mutiply then add integers\"\n",
        "(3*4)+5"
      ],
      "metadata": {
        "colab": {
          "base_uri": "https://localhost:8080/"
        },
        "id": "ECwl4XPMmHYm",
        "outputId": "1e94923e-fe4b-458a-dcff-90fcd27db3bf"
      },
      "execution_count": 2,
      "outputs": [
        {
          "output_type": "execute_result",
          "data": {
            "text/plain": [
              "17"
            ]
          },
          "metadata": {},
          "execution_count": 2
        }
      ]
    },
    {
      "cell_type": "code",
      "source": [
        "\"This will convert 200 minutes to hours by diving by 60\"\n",
        "(200/60)"
      ],
      "metadata": {
        "colab": {
          "base_uri": "https://localhost:8080/"
        },
        "id": "NKo6LorUmmZK",
        "outputId": "bceb4c2a-e62d-4e76-9f22-7b0ad3e1ddaa"
      },
      "execution_count": 3,
      "outputs": [
        {
          "output_type": "execute_result",
          "data": {
            "text/plain": [
              "3.3333333333333335"
            ]
          },
          "metadata": {},
          "execution_count": 3
        }
      ]
    },
    {
      "cell_type": "markdown",
      "source": [
        "##Author:\n",
        "H. André Gutiérrez Arellano"
      ],
      "metadata": {
        "id": "Yodmx5Pgo4fm"
      }
    }
  ],
  "metadata": {
    "colab": {
      "provenance": [],
      "authorship_tag": "ABX9TyPMHeoe0Cuphj98Xoz5eVWi",
      "include_colab_link": true
    },
    "kernelspec": {
      "display_name": "Python 3",
      "name": "python3"
    },
    "language_info": {
      "name": "python"
    }
  },
  "nbformat": 4,
  "nbformat_minor": 0
}